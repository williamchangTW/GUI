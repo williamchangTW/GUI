{
 "cells": [
  {
   "cell_type": "code",
   "execution_count": 1,
   "metadata": {},
   "outputs": [],
   "source": [
    "# Test\n",
    "from fbs_runtime.application_context.PyQt5 import ApplicationContext\n",
    "from PyQt5.QtWidgets import QMainWindow\n",
    "from PyQt5.QtWidgets import *\n",
    "\n",
    "import sys\n",
    "\n",
    "def on_button_clicked1():\n",
    "    alert = QMessageBox()\n",
    "    alert.setText(\"You clicked the button1!\")\n",
    "    alert.exec_()\n",
    "\n",
    "def on_button_clicked2():\n",
    "    alert = QMessageBox()\n",
    "    alert.setText(\"You clicked the button2!\")\n",
    "    alert.exec_()\n",
    "\n",
    "\n",
    "if __name__ == '__main__':\n",
    "    '''\n",
    "    appctxt = ApplicationContext()       # 1. Instantiate ApplicationContext\n",
    "    window = QMainWindow()\n",
    "    window.resize(250, 150)\n",
    "    window.show()\n",
    "    exit_code = appctxt.app.exec_()      # 2. Invoke appctxt.app.exec_()\n",
    "    sys.exit(exit_code)\n",
    "    '''\n",
    "    app = QApplication([])\n",
    "    app.setStyleSheet(\"QPushButton {margin: 5ex; }\")\n",
    "    button1 = QPushButton(\"Input Data\")\n",
    "    button2 = QPushButton(\"Input TensorFlow Model\")\n",
    "    button1.clicked.connect(on_button_clicked1)\n",
    "    button1.show()\n",
    "    button2.clicked.connect(on_button_clicked2)\n",
    "    button2.show()\n",
    "    app.exec_()\n",
    "\n"
   ]
  },
  {
   "cell_type": "code",
   "execution_count": 2,
   "metadata": {},
   "outputs": [
    {
     "ename": "SystemExit",
     "evalue": "0",
     "output_type": "error",
     "traceback": [
      "An exception has occurred, use %tb to see the full traceback.\n",
      "\u001b[0;31mSystemExit\u001b[0m\u001b[0;31m:\u001b[0m 0\n"
     ]
    },
    {
     "name": "stderr",
     "output_type": "stream",
     "text": [
      "/home/raspberr/.local/lib/python3.6/site-packages/IPython/core/interactiveshell.py:3334: UserWarning: To exit: use 'exit', 'quit', or Ctrl-D.\n",
      "  warn(\"To exit: use 'exit', 'quit', or Ctrl-D.\", stacklevel=1)\n"
     ]
    }
   ],
   "source": [
    "# in 1 window with 2 button\n",
    "from fbs_runtime.application_context.PyQt5 import ApplicationContext\n",
    "from PyQt5.QtWidgets import QMainWindow\n",
    "from PyQt5.QtWidgets import *\n",
    "\n",
    "import sys\n",
    "\n",
    "def window():\n",
    "    app = QApplication(sys.argv)\n",
    "    win = QDialog()\n",
    "    b1 = QPushButton(win)\n",
    "    b1.setText(\"Button1\")\n",
    "    b1.move(50,20)\n",
    "    b1.clicked.connect(b1_clicked)\n",
    "\n",
    "    b2 = QPushButton(win)\n",
    "    b2.setText(\"Button2\")\n",
    "    b2.move(50,50)\n",
    "    b2.clicked.connect(b2_clicked)\n",
    "\n",
    "    win.setGeometry(100,100,200,100)\n",
    "    win.setWindowTitle(\"PyQt\")\n",
    "    win.show()\n",
    "    sys.exit(app.exec_())\n",
    "\n",
    "def b1_clicked():\n",
    "    print(\"Button 1 clicked\")\n",
    "\n",
    "def b2_clicked():\n",
    "    print(\"Button 2 clicked\")\n",
    "\n",
    "if __name__ == '__main__':\n",
    "    window()"
   ]
  },
  {
   "cell_type": "code",
   "execution_count": null,
   "metadata": {},
   "outputs": [],
   "source": [
    "# get file \n",
    "import sys\n",
    "from PyQt5.QtWidgets import QApplication, QWidget, QInputDialog, QLineEdit, QFileDialog\n",
    "from PyQt5.QtGui import QIcon\n",
    "\n",
    "class App(QWidget):\n",
    "\n",
    "    def __init__(self):\n",
    "        super().__init__()\n",
    "        self.title = 'PyQt5 file dialogs - pythonspot.com'\n",
    "        self.left = 10\n",
    "        self.top = 10\n",
    "        self.width = 640\n",
    "        self.height = 480\n",
    "        self.initUI()\n",
    "    \n",
    "    def initUI(self):\n",
    "        self.setWindowTitle(self.title)\n",
    "        self.setGeometry(self.left, self.top, self.width, self.height)\n",
    "        \n",
    "        self.openFileNameDialog()\n",
    "        self.openFileNamesDialog()\n",
    "        self.saveFileDialog()\n",
    "        self.openFileDialog()\n",
    "        \n",
    "        self.show()\n",
    "    \n",
    "    def openFileNameDialog(self):\n",
    "        options = QFileDialog.Options()\n",
    "        options |= QFileDialog.DontUseNativeDialog\n",
    "        fileName, _ = QFileDialog.getOpenFileName(self,\"QFileDialog.getOpenFileName()\", \"\",\"All Files (*);;Python Files (*.py)\", options=options)\n",
    "        if fileName:\n",
    "            print(fileName)\n",
    "    \n",
    "    def openFileNamesDialog(self):\n",
    "        options = QFileDialog.Options()\n",
    "        options |= QFileDialog.DontUseNativeDialog\n",
    "        files, _ = QFileDialog.getOpenFileNames(self,\"QFileDialog.getOpenFileNames()\", \"\",\"All Files (*);;Python Files (*.py)\", options=options)\n",
    "        if files:\n",
    "            print(files)\n",
    "            \n",
    "    def openFileDialog(self):\n",
    "        options = QFileDialog.Options()\n",
    "        options |= QFileDialog.DontUseNativeDialog\n",
    "        files, _ = QFileDialog.getOpenFileNames(self,\"QFileDialog.getOpenFileNames()\",\"\",\"All Files (*);;CSV Files (*.csv)\", options=options)\n",
    "        if files:\n",
    "            print(files)\n",
    "    \n",
    "    def saveFileDialog(self):\n",
    "        options = QFileDialog.Options()\n",
    "        options |= QFileDialog.DontUseNativeDialog\n",
    "        fileName, _ = QFileDialog.getSaveFileName(self,\"QFileDialog.getSaveFileName()\",\"\",\"All Files (*);;Text Files (*.txt)\", options=options)\n",
    "        if fileName:\n",
    "            print(fileName)\n",
    "        \n",
    "\n",
    "if __name__ == '__main__':\n",
    "    app = QApplication(sys.argv)\n",
    "    ex = App()\n",
    "    sys.exit(app.exec_())"
   ]
  },
  {
   "cell_type": "code",
   "execution_count": 1,
   "metadata": {},
   "outputs": [
    {
     "name": "stdout",
     "output_type": "stream",
     "text": [
      "\n",
      "Cancel\n"
     ]
    },
    {
     "ename": "SystemExit",
     "evalue": "0",
     "output_type": "error",
     "traceback": [
      "An exception has occurred, use %tb to see the full traceback.\n",
      "\u001b[0;31mSystemExit\u001b[0m\u001b[0;31m:\u001b[0m 0\n"
     ]
    },
    {
     "name": "stderr",
     "output_type": "stream",
     "text": [
      "/home/raspberr/.local/lib/python3.6/site-packages/IPython/core/interactiveshell.py:3334: UserWarning: To exit: use 'exit', 'quit', or Ctrl-D.\n",
      "  warn(\"To exit: use 'exit', 'quit', or Ctrl-D.\", stacklevel=1)\n"
     ]
    }
   ],
   "source": [
    "import sys\n",
    "import os\n",
    "from PyQt5.QtWidgets import *\n",
    "    \n",
    "\n",
    "class Console(QWidget):\n",
    "    def __init__(self, name = 'Main'):\n",
    "        super(Console,self).__init__()\n",
    "        self.setWindowTitle(name)\n",
    "        self.cwd = os.getcwd() # 获取当前程序文件位置\n",
    "        self.resize(300, 200)   # 设置窗体大小\n",
    "\n",
    "        # Select Input File\n",
    "        self.btn_chooseInputFile = QPushButton(self)  \n",
    "        self.btn_chooseInputFile.setObjectName(\"btn_chooseInputFile\")  \n",
    "        self.btn_chooseInputFile.setText(\"Input CSV File\")\n",
    "\n",
    "\n",
    "\n",
    "        # Select Model Input\n",
    "        self.btn_chooseModelFile = QPushButton(self)  \n",
    "        self.btn_chooseModelFile.setObjectName(\"btn_chooseModelFile\")  \n",
    "        self.btn_chooseModelFile.setText(\"Input Model File\")\n",
    "\n",
    "        # Show connected devices\n",
    "        self.btn_connectedDevices = QPushButton(self)\n",
    "        self.btn_connectedDevices.setObjectName(\"btn_connectedDevices\")\n",
    "        self.btn_connectedDevices.setText(\"Show Connected Devices\")\n",
    "        \n",
    "        # Execute the process\n",
    "        self.btn_execute = QPushButton(self)  \n",
    "        self.btn_execute.setObjectName(\"btn_execute\")  \n",
    "        self.btn_execute.setText(\"Execute\")\n",
    "        \n",
    "        # 设置布局\n",
    "        layout = QVBoxLayout()\n",
    "        # Buttons \n",
    "        layout.addWidget(self.btn_chooseInputFile)\n",
    "        layout.addWidget(self.btn_chooseModelFile)\n",
    "        layout.addWidget(self.btn_connectedDevices)\n",
    "        layout.addWidget(self.btn_execute)\n",
    "        \n",
    "        # construct\n",
    "        self.setLayout(layout)\n",
    "\n",
    "\n",
    "        # 设置信号\n",
    "        self.btn_chooseInputFile.clicked.connect(self.slot_btn_chooseInputFile)\n",
    "        self.btn_chooseModelFile.clicked.connect(self.slot_btn_chooseModelFile)\n",
    "        self.btn_connectedDevices.clicked.connect(self.slot_btn_connectedDevices)\n",
    "        self.btn_execute.clicked.connect(self.slot_btn_execute)\n",
    "\n",
    "    def slot_btn_chooseInputFile(self):\n",
    "        fileName_choose, filetype = QFileDialog.getOpenFileName(self,  \n",
    "                                    \"Select\",  \n",
    "                                    self.cwd, # 起始路径 \n",
    "                                    \"CSV Files (*.csv)\")   # 设置文件扩展名过滤,用双分号间隔\n",
    "\n",
    "        if fileName_choose == \"\":\n",
    "            print(\"\\nCancel\")\n",
    "            return\n",
    "\n",
    "        print(\"\\nFile Name:\")\n",
    "        print(fileName_choose)\n",
    "        print(\"File Filter: \",filetype)\n",
    "        global inputData\n",
    "        inputData = fileName_choose\n",
    "        \n",
    "    def slot_btn_chooseModelFile(self):\n",
    "        fileName_choose, filetype = QFileDialog.getOpenFileName(self,  \n",
    "                                    \"Select\",  \n",
    "                                    self.cwd, # 起始路径 \n",
    "                                    \"Python File(*.py)\")   # 设置文件扩展名过滤,用双分号间隔\n",
    "\n",
    "        if fileName_choose == \"\":\n",
    "            print(\"\\nCancel\")\n",
    "            return\n",
    "\n",
    "        print(\"\\nFile Name:\")\n",
    "        print(fileName_choose)\n",
    "        print(\"File Filter: \",filetype)\n",
    "        global inputModel\n",
    "        inputModel = fileName_choose\n",
    "    \n",
    "    def slot_btn_connectedDevices(self):\n",
    "        fileName_choose, filetype = QFileDialog.getOpenFileName(self,  \n",
    "                                    \"Select\",  \n",
    "                                    self.cwd, # 起始路径 \n",
    "                                    \"Python File(*.py)\")   # 设置文件扩展名过滤,用双分号间隔\n",
    "\n",
    "        if fileName_choose == \"\":\n",
    "            print(\"\\nCancel\")\n",
    "            return\n",
    "\n",
    "        print(\"\\nFile Name:\")\n",
    "        print(fileName_choose)\n",
    "        print(\"File Filter: \",filetype)\n",
    "        \n",
    "    def slot_btn_execute(self):\n",
    "        #cmd = \"gnome-terminal -e 'bash -c \\\"ls *;exec b}ash\\\"'\"\n",
    "        #cmd = \"gnome-terminal -e 'bash -c \\\"ls *; exec bash\\\"'\"\n",
    "        \n",
    "        temp = inputModel\n",
    "        command = '\"/usr/bin/python3.6 ' + temp \n",
    "        cmd = \"gnome-terminal -e 'bash -c \" + command + \";exec bash\\\"'\" \n",
    "        #cmd = \"gnome-terminal -e '/usr/bin/python3.6 test.py'\"\n",
    "        \n",
    "        os.system(cmd)\n",
    "        #os.system(\"gnome-terminal -e 'bash -c \\\"ls *; exec bash\\\"'\")\n",
    "        \n",
    "\n",
    "\n",
    "if __name__==\"__main__\":\n",
    "    inputData = \"\"\n",
    "    inputModel = \"\"\n",
    "    app = QApplication(sys.argv)\n",
    "    console = Console('Console')\n",
    "    console.show()\n",
    "    sys.exit(app.exec_())\n"
   ]
  },
  {
   "cell_type": "code",
   "execution_count": 1,
   "metadata": {},
   "outputs": [
    {
     "name": "stdout",
     "output_type": "stream",
     "text": [
      "gnome-terminal -e 'bash -c \"/usr/bin/python3.6 test.py;exec bash\"'\n"
     ]
    }
   ],
   "source": [
    "cmd = \"gnome-terminal -e 'bash -c \\\"/usr/bin/python3.6 test.py;exec bash\\\"'\"\n",
    "print(cmd)"
   ]
  },
  {
   "cell_type": "code",
   "execution_count": 2,
   "metadata": {},
   "outputs": [
    {
     "name": "stdout",
     "output_type": "stream",
     "text": [
      "gnome-terminal -e 'bash -c \"/usr/bin/python3.6 test.py;exec bash\"'\n"
     ]
    }
   ],
   "source": [
    "temp = \"test.py\"\n",
    "command = '\"/usr/bin/python3.6 ' + temp\n",
    "cmd = \"gnome-terminal -e 'bash -c \" + command + \";exec bash\\\"'\" \n",
    "print(cmd)"
   ]
  },
  {
   "cell_type": "code",
   "execution_count": 3,
   "metadata": {},
   "outputs": [
    {
     "name": "stdout",
     "output_type": "stream",
     "text": [
      "switch\n",
      "just\n"
     ]
    }
   ],
   "source": [
    "tempdata1 = \"\"\n",
    "tempdata2 = \"\"\n",
    "def temp1(var):\n",
    "    global tempdata1\n",
    "    tempdata1 = var\n",
    "    return tempdata1\n",
    "    \n",
    "def temp2(var):\n",
    "    global tempdata2\n",
    "    tempdata2 = var\n",
    "    return tempdata2\n",
    "    \n",
    "temp1(\"switch\")\n",
    "temp2(\"just\")\n",
    "\n",
    "print(tempdata1)\n",
    "print(tempdata2)"
   ]
  },
  {
   "cell_type": "code",
   "execution_count": 1,
   "metadata": {},
   "outputs": [
    {
     "name": "stdout",
     "output_type": "stream",
     "text": [
      "3.6.9\n"
     ]
    }
   ],
   "source": [
    "from platform import python_version\n",
    "\n",
    "print(python_version())"
   ]
  },
  {
   "cell_type": "code",
   "execution_count": 2,
   "metadata": {},
   "outputs": [
    {
     "data": {
      "text/plain": [
       "32512"
      ]
     },
     "execution_count": 2,
     "metadata": {},
     "output_type": "execute_result"
    }
   ],
   "source": [
    "import os\n",
    "cmd = \"gnome-terminal -e 'bash -c \\\"python3 20190318.py;exec bash\\\"'\"\n",
    "os.system(cmd)"
   ]
  },
  {
   "cell_type": "code",
   "execution_count": 4,
   "metadata": {},
   "outputs": [
    {
     "name": "stdout",
     "output_type": "stream",
     "text": [
      "['/home/raspberr/.local/lib/python3.6/site-packages/ipykernel_launcher.py', '-f', '/home/raspberr/.local/share/jupyter/runtime/kernel-ee3662bd-00ce-47f8-86d5-83dd7da700d7.json']\n"
     ]
    }
   ],
   "source": [
    "import sys\n",
    "print(sys.argv)"
   ]
  },
  {
   "cell_type": "code",
   "execution_count": 2,
   "metadata": {},
   "outputs": [
    {
     "data": {
      "text/plain": [
       "<os._wrap_close at 0x7f617055ea20>"
      ]
     },
     "execution_count": 2,
     "metadata": {},
     "output_type": "execute_result"
    }
   ],
   "source": [
    "import os\n",
    "os.popen(\"python3 -V\")"
   ]
  },
  {
   "cell_type": "code",
   "execution_count": 4,
   "metadata": {},
   "outputs": [
    {
     "data": {
      "text/plain": [
       "'/home/raspberr/src/main/python'"
      ]
     },
     "execution_count": 4,
     "metadata": {},
     "output_type": "execute_result"
    }
   ],
   "source": [
    "os.getcwd()"
   ]
  },
  {
   "cell_type": "code",
   "execution_count": 3,
   "metadata": {},
   "outputs": [
    {
     "data": {
      "text/plain": [
       "32512"
      ]
     },
     "execution_count": 3,
     "metadata": {},
     "output_type": "execute_result"
    }
   ],
   "source": [
    "os.system(\"python3 -V\")"
   ]
  },
  {
   "cell_type": "code",
   "execution_count": 6,
   "metadata": {},
   "outputs": [],
   "source": [
    "import subprocess"
   ]
  },
  {
   "cell_type": "code",
   "execution_count": 20,
   "metadata": {},
   "outputs": [],
   "source": [
    "result = subprocess.Popen([\"/usr/bin/python3.6\", \"-V\"])#, shell=True)"
   ]
  },
  {
   "cell_type": "code",
   "execution_count": 21,
   "metadata": {},
   "outputs": [
    {
     "name": "stdout",
     "output_type": "stream",
     "text": [
      "<subprocess.Popen object at 0x7fd21716e630>\n"
     ]
    }
   ],
   "source": [
    "print(result)"
   ]
  },
  {
   "cell_type": "code",
   "execution_count": 5,
   "metadata": {},
   "outputs": [
    {
     "data": {
      "text/plain": [
       "'Python 3.6.9\\n'"
      ]
     },
     "execution_count": 5,
     "metadata": {},
     "output_type": "execute_result"
    }
   ],
   "source": [
    "os.popen(\"/usr/bin/python3.6 -V\").read()"
   ]
  },
  {
   "cell_type": "code",
   "execution_count": 7,
   "metadata": {},
   "outputs": [
    {
     "data": {
      "text/plain": [
       "0"
      ]
     },
     "execution_count": 7,
     "metadata": {},
     "output_type": "execute_result"
    }
   ],
   "source": [
    "os.system(\"gnome-terminal -e 'bash -c \\\"/usr/bin/python3.6 test1.py; exec bash\\\"'\")"
   ]
  },
  {
   "cell_type": "code",
   "execution_count": null,
   "metadata": {},
   "outputs": [],
   "source": []
  }
 ],
 "metadata": {
  "kernelspec": {
   "display_name": "Python 3",
   "language": "python",
   "name": "python3"
  },
  "language_info": {
   "codemirror_mode": {
    "name": "ipython",
    "version": 3
   },
   "file_extension": ".py",
   "mimetype": "text/x-python",
   "name": "python",
   "nbconvert_exporter": "python",
   "pygments_lexer": "ipython3",
   "version": "3.6.9"
  }
 },
 "nbformat": 4,
 "nbformat_minor": 2
}
